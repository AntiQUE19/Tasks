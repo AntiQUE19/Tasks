{
 "cells": [
  {
   "cell_type": "code",
   "execution_count": 41,
   "metadata": {},
   "outputs": [],
   "source": [
    "import pandas as pd\n",
    "import numpy as np\n",
    "import re\n",
    "import scipy\n",
    "from scipy import spatial"
   ]
  },
  {
   "cell_type": "code",
   "execution_count": 53,
   "metadata": {},
   "outputs": [],
   "source": [
    "file_obj = open('sentences.txt', 'r')\n",
    "\n",
    "data_list = list(file_obj)\n",
    "\n",
    "file_obj.close()\n",
    "\n",
    "tokens = list()\n",
    "words = set()\n",
    "\n",
    "for line in data_list:\n",
    "    lcase = re.split('[^a-z]', line.lower())\n",
    "    nempty = list(filter(lambda x: len(x) != 0, lcase))\n",
    "    tokens.append(nempty)\n",
    "    for word in nempty:\n",
    "        words.add(word)\n",
    "lwords = list(words)\n",
    "uniq_tokens = dict(zip(lwords, [i for i in range(len(words))]))\n",
    "\n",
    "mat = np.zeros((len(tokens), len(lwords)))\n",
    "\n",
    "i = 0\n",
    "for sentence in tokens:\n",
    "    for word in sentence:\n",
    "        if word in uniq_tokens:\n",
    "            mat[i][uniq_tokens.get(word)] += 1\n",
    "    i += 1\n",
    "distances = list()\n",
    "\n",
    "for i in range(1,len(tokens)):\n",
    "    distances.append([spatial.distance.cosine(mat[0], mat[i]), i])\n",
    "\n",
    "distances = sorted(distances)\n",
    "\n",
    "file_obj = open('submission-1.txt', 'w')\n",
    "file_obj.write(str(distances[0][1]) + ' ' + str(distances[1][1]))\n",
    "file_obj.close()\n",
    "\n"
   ]
  }
 ],
 "metadata": {
  "kernelspec": {
   "display_name": "Python 3",
   "language": "python",
   "name": "python3"
  },
  "language_info": {
   "codemirror_mode": {
    "name": "ipython",
    "version": 3
   },
   "file_extension": ".py",
   "mimetype": "text/x-python",
   "name": "python",
   "nbconvert_exporter": "python",
   "pygments_lexer": "ipython3",
   "version": "3.6.10"
  }
 },
 "nbformat": 4,
 "nbformat_minor": 4
}
